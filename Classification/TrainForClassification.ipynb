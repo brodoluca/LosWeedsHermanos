{
 "cells": [
  {
   "cell_type": "code",
   "execution_count": 3,
   "id": "233cb159",
   "metadata": {},
   "outputs": [],
   "source": [
    "import os\n",
    "import numpy as np\n",
    "import cv2\n",
    "import time\n",
    "import glob\n",
    "import math\n",
    "import random\n",
    "import torch\n",
    "from torch.utils.data import Dataset, DataLoader\n",
    "from PIL import Image\n",
    "import pandas as pd\n",
    "from torchvision import transforms\n",
    "import shutil\n",
    "from matplotlib import pyplot as plt\n",
    "import torch.nn as nn\n",
    "from tqdm.notebook import tqdm\n",
    "import torch.nn.functional as F\n",
    "from torchvision.datasets import ImageFolder\n",
    "import torchvision.models as models\n",
    "from torch.utils.data import random_split\n",
    "import os\n",
    "import numpy as np\n",
    "import torch\n",
    "from torchvision import models, transforms\n",
    "from sklearn import svm\n",
    "from sklearn.model_selection import train_test_split\n",
    "from sklearn.metrics import accuracy_score\n",
    "from sklearn import preprocessing\n",
    "\n",
    "\n",
    "from dataset import TrackSet\n",
    "import utils\n",
    "\n",
    "#Might need to change \"device\" to \"cpu\" if you dont have cuda installed\n",
    "device = \"cuda:2\"\n",
    "#Also, change this to the path where you saved the dataset\n",
    "data_dir = \"./dataset/seedlings_no_background\"\n",
    "training_data = \"./dataset/classb\"\n",
    "\n",
    "\n",
    "#Use this to change the name used to save the models and the confusion matrix. \n",
    "## BE CAREFUL!!! It will overwrite if the names are the same\n",
    "model_name = \"resnet18\"\n"
   ]
  },
  {
   "cell_type": "code",
   "execution_count": 4,
   "id": "8c5307a6",
   "metadata": {},
   "outputs": [],
   "source": [
    "batch_size = 64\n",
    "EPOCHS = 10"
   ]
  },
  {
   "cell_type": "code",
   "execution_count": 5,
   "id": "169c44d9",
   "metadata": {},
   "outputs": [],
   "source": [
    "random_transforms = transforms.Compose([\n",
    "    transforms.RandomHorizontalFlip(p=0.5),\n",
    "    transforms.RandomRotation(degrees=(0, 30)),\n",
    "    transforms.ColorJitter(brightness=0.4, contrast=0.4, saturation=0.4, hue=0.1),\n",
    "    transforms.RandomAffine(degrees=30, translate=(0.1, 0.1), scale=(0.8, 1.2), shear=10)\n",
    "])\n",
    "\n",
    "transform = transforms.Compose(\n",
    "            [\n",
    "            transforms.ToTensor(),\n",
    "            random_transforms,\n",
    "            transforms.Resize((224,224),antialias=None),\n",
    "            ]\n",
    "        )"
   ]
  },
  {
   "cell_type": "code",
   "execution_count": null,
   "id": "e03fdb22",
   "metadata": {},
   "outputs": [],
   "source": [
    "pre_dataset = ImageFolder(root=data_dir, transform=transform)\n",
    "pre_data_loader = DataLoader(pre_dataset, batch_size=batch_size)\n"
   ]
  },
  {
   "attachments": {},
   "cell_type": "markdown",
   "id": "b0fdb3de",
   "metadata": {},
   "source": [
    "Here, you need to change the model from here. \n",
    "Careful, sometimes the models dont have a layer called\"fc\", sometimes is called \"classifier\". \n",
    "if you do print(model) you will see the model structure:\n",
    "After you see teh structure, at the end you will see something like this:\n",
    "\n",
    "(avgpool): AdaptiveAvgPool2d(output_size=(1, 1)\n",
    "(fc): Linear(in_features=512, out_features=1000, bias=True)\n",
    "in parenthesis is the layer name, \n"
   ]
  },
  {
   "cell_type": "code",
   "execution_count": 7,
   "id": "5ef9599e",
   "metadata": {},
   "outputs": [
    {
     "name": "stdout",
     "output_type": "stream",
     "text": [
      "ResNet(\n",
      "  (conv1): Conv2d(3, 64, kernel_size=(7, 7), stride=(2, 2), padding=(3, 3), bias=False)\n",
      "  (bn1): BatchNorm2d(64, eps=1e-05, momentum=0.1, affine=True, track_running_stats=True)\n",
      "  (relu): ReLU(inplace=True)\n",
      "  (maxpool): MaxPool2d(kernel_size=3, stride=2, padding=1, dilation=1, ceil_mode=False)\n",
      "  (layer1): Sequential(\n",
      "    (0): BasicBlock(\n",
      "      (conv1): Conv2d(64, 64, kernel_size=(3, 3), stride=(1, 1), padding=(1, 1), bias=False)\n",
      "      (bn1): BatchNorm2d(64, eps=1e-05, momentum=0.1, affine=True, track_running_stats=True)\n",
      "      (relu): ReLU(inplace=True)\n",
      "      (conv2): Conv2d(64, 64, kernel_size=(3, 3), stride=(1, 1), padding=(1, 1), bias=False)\n",
      "      (bn2): BatchNorm2d(64, eps=1e-05, momentum=0.1, affine=True, track_running_stats=True)\n",
      "    )\n",
      "    (1): BasicBlock(\n",
      "      (conv1): Conv2d(64, 64, kernel_size=(3, 3), stride=(1, 1), padding=(1, 1), bias=False)\n",
      "      (bn1): BatchNorm2d(64, eps=1e-05, momentum=0.1, affine=True, track_running_stats=True)\n",
      "      (relu): ReLU(inplace=True)\n",
      "      (conv2): Conv2d(64, 64, kernel_size=(3, 3), stride=(1, 1), padding=(1, 1), bias=False)\n",
      "      (bn2): BatchNorm2d(64, eps=1e-05, momentum=0.1, affine=True, track_running_stats=True)\n",
      "    )\n",
      "  )\n",
      "  (layer2): Sequential(\n",
      "    (0): BasicBlock(\n",
      "      (conv1): Conv2d(64, 128, kernel_size=(3, 3), stride=(2, 2), padding=(1, 1), bias=False)\n",
      "      (bn1): BatchNorm2d(128, eps=1e-05, momentum=0.1, affine=True, track_running_stats=True)\n",
      "      (relu): ReLU(inplace=True)\n",
      "      (conv2): Conv2d(128, 128, kernel_size=(3, 3), stride=(1, 1), padding=(1, 1), bias=False)\n",
      "      (bn2): BatchNorm2d(128, eps=1e-05, momentum=0.1, affine=True, track_running_stats=True)\n",
      "      (downsample): Sequential(\n",
      "        (0): Conv2d(64, 128, kernel_size=(1, 1), stride=(2, 2), bias=False)\n",
      "        (1): BatchNorm2d(128, eps=1e-05, momentum=0.1, affine=True, track_running_stats=True)\n",
      "      )\n",
      "    )\n",
      "    (1): BasicBlock(\n",
      "      (conv1): Conv2d(128, 128, kernel_size=(3, 3), stride=(1, 1), padding=(1, 1), bias=False)\n",
      "      (bn1): BatchNorm2d(128, eps=1e-05, momentum=0.1, affine=True, track_running_stats=True)\n",
      "      (relu): ReLU(inplace=True)\n",
      "      (conv2): Conv2d(128, 128, kernel_size=(3, 3), stride=(1, 1), padding=(1, 1), bias=False)\n",
      "      (bn2): BatchNorm2d(128, eps=1e-05, momentum=0.1, affine=True, track_running_stats=True)\n",
      "    )\n",
      "  )\n",
      "  (layer3): Sequential(\n",
      "    (0): BasicBlock(\n",
      "      (conv1): Conv2d(128, 256, kernel_size=(3, 3), stride=(2, 2), padding=(1, 1), bias=False)\n",
      "      (bn1): BatchNorm2d(256, eps=1e-05, momentum=0.1, affine=True, track_running_stats=True)\n",
      "      (relu): ReLU(inplace=True)\n",
      "      (conv2): Conv2d(256, 256, kernel_size=(3, 3), stride=(1, 1), padding=(1, 1), bias=False)\n",
      "      (bn2): BatchNorm2d(256, eps=1e-05, momentum=0.1, affine=True, track_running_stats=True)\n",
      "      (downsample): Sequential(\n",
      "        (0): Conv2d(128, 256, kernel_size=(1, 1), stride=(2, 2), bias=False)\n",
      "        (1): BatchNorm2d(256, eps=1e-05, momentum=0.1, affine=True, track_running_stats=True)\n",
      "      )\n",
      "    )\n",
      "    (1): BasicBlock(\n",
      "      (conv1): Conv2d(256, 256, kernel_size=(3, 3), stride=(1, 1), padding=(1, 1), bias=False)\n",
      "      (bn1): BatchNorm2d(256, eps=1e-05, momentum=0.1, affine=True, track_running_stats=True)\n",
      "      (relu): ReLU(inplace=True)\n",
      "      (conv2): Conv2d(256, 256, kernel_size=(3, 3), stride=(1, 1), padding=(1, 1), bias=False)\n",
      "      (bn2): BatchNorm2d(256, eps=1e-05, momentum=0.1, affine=True, track_running_stats=True)\n",
      "    )\n",
      "  )\n",
      "  (layer4): Sequential(\n",
      "    (0): BasicBlock(\n",
      "      (conv1): Conv2d(256, 512, kernel_size=(3, 3), stride=(2, 2), padding=(1, 1), bias=False)\n",
      "      (bn1): BatchNorm2d(512, eps=1e-05, momentum=0.1, affine=True, track_running_stats=True)\n",
      "      (relu): ReLU(inplace=True)\n",
      "      (conv2): Conv2d(512, 512, kernel_size=(3, 3), stride=(1, 1), padding=(1, 1), bias=False)\n",
      "      (bn2): BatchNorm2d(512, eps=1e-05, momentum=0.1, affine=True, track_running_stats=True)\n",
      "      (downsample): Sequential(\n",
      "        (0): Conv2d(256, 512, kernel_size=(1, 1), stride=(2, 2), bias=False)\n",
      "        (1): BatchNorm2d(512, eps=1e-05, momentum=0.1, affine=True, track_running_stats=True)\n",
      "      )\n",
      "    )\n",
      "    (1): BasicBlock(\n",
      "      (conv1): Conv2d(512, 512, kernel_size=(3, 3), stride=(1, 1), padding=(1, 1), bias=False)\n",
      "      (bn1): BatchNorm2d(512, eps=1e-05, momentum=0.1, affine=True, track_running_stats=True)\n",
      "      (relu): ReLU(inplace=True)\n",
      "      (conv2): Conv2d(512, 512, kernel_size=(3, 3), stride=(1, 1), padding=(1, 1), bias=False)\n",
      "      (bn2): BatchNorm2d(512, eps=1e-05, momentum=0.1, affine=True, track_running_stats=True)\n",
      "    )\n",
      "  )\n",
      "  (avgpool): AdaptiveAvgPool2d(output_size=(1, 1))\n",
      "  (fc): Linear(in_features=512, out_features=1000, bias=True)\n",
      ")\n"
     ]
    },
    {
     "ename": "AssertionError",
     "evalue": "Torch not compiled with CUDA enabled",
     "output_type": "error",
     "traceback": [
      "\u001b[0;31m---------------------------------------------------------------------------\u001b[0m",
      "\u001b[0;31mAssertionError\u001b[0m                            Traceback (most recent call last)",
      "\u001b[1;32m/Users/brodie/sciebo/University/Classes/Second Semester/MechSysmEng/Project/LosWeedsHermanos/Classification/TrainForClassification.ipynb Cella 5\u001b[0m in \u001b[0;36m<cell line: 12>\u001b[0;34m()\u001b[0m\n\u001b[1;32m      <a href='vscode-notebook-cell:/Users/brodie/sciebo/University/Classes/Second%20Semester/MechSysmEng/Project/LosWeedsHermanos/Classification/TrainForClassification.ipynb#W4sZmlsZQ%3D%3D?line=5'>6</a>\u001b[0m \u001b[39mprint\u001b[39m(model)\n\u001b[1;32m      <a href='vscode-notebook-cell:/Users/brodie/sciebo/University/Classes/Second%20Semester/MechSysmEng/Project/LosWeedsHermanos/Classification/TrainForClassification.ipynb#W4sZmlsZQ%3D%3D?line=6'>7</a>\u001b[0m \u001b[39m# This is how to load a model which is already been trained. You should not need this code\u001b[39;00m\n\u001b[1;32m      <a href='vscode-notebook-cell:/Users/brodie/sciebo/University/Classes/Second%20Semester/MechSysmEng/Project/LosWeedsHermanos/Classification/TrainForClassification.ipynb#W4sZmlsZQ%3D%3D?line=7'>8</a>\u001b[0m \u001b[39m#model.fc = nn.Linear(num_features, 43).to(device)\u001b[39;00m\n\u001b[1;32m      <a href='vscode-notebook-cell:/Users/brodie/sciebo/University/Classes/Second%20Semester/MechSysmEng/Project/LosWeedsHermanos/Classification/TrainForClassification.ipynb#W4sZmlsZQ%3D%3D?line=8'>9</a>\u001b[0m \u001b[39m#model_check = torch.load(\"./saved_models/resnet18_pretrained_traffic_lights.pth\")\u001b[39;00m\n\u001b[1;32m     <a href='vscode-notebook-cell:/Users/brodie/sciebo/University/Classes/Second%20Semester/MechSysmEng/Project/LosWeedsHermanos/Classification/TrainForClassification.ipynb#W4sZmlsZQ%3D%3D?line=9'>10</a>\u001b[0m \u001b[39m#model.load_state_dict(model_check)\u001b[39;00m\n\u001b[0;32m---> <a href='vscode-notebook-cell:/Users/brodie/sciebo/University/Classes/Second%20Semester/MechSysmEng/Project/LosWeedsHermanos/Classification/TrainForClassification.ipynb#W4sZmlsZQ%3D%3D?line=11'>12</a>\u001b[0m model\u001b[39m.\u001b[39mfc \u001b[39m=\u001b[39m nn\u001b[39m.\u001b[39;49mLinear(num_features, \u001b[39m2\u001b[39;49m)\u001b[39m.\u001b[39;49mto(device)\n",
      "File \u001b[0;32m/Library/Frameworks/Python.framework/Versions/3.9/lib/python3.9/site-packages/torch/nn/modules/module.py:1145\u001b[0m, in \u001b[0;36mModule.to\u001b[0;34m(self, *args, **kwargs)\u001b[0m\n\u001b[1;32m   1141\u001b[0m         \u001b[39mreturn\u001b[39;00m t\u001b[39m.\u001b[39mto(device, dtype \u001b[39mif\u001b[39;00m t\u001b[39m.\u001b[39mis_floating_point() \u001b[39mor\u001b[39;00m t\u001b[39m.\u001b[39mis_complex() \u001b[39melse\u001b[39;00m \u001b[39mNone\u001b[39;00m,\n\u001b[1;32m   1142\u001b[0m                     non_blocking, memory_format\u001b[39m=\u001b[39mconvert_to_format)\n\u001b[1;32m   1143\u001b[0m     \u001b[39mreturn\u001b[39;00m t\u001b[39m.\u001b[39mto(device, dtype \u001b[39mif\u001b[39;00m t\u001b[39m.\u001b[39mis_floating_point() \u001b[39mor\u001b[39;00m t\u001b[39m.\u001b[39mis_complex() \u001b[39melse\u001b[39;00m \u001b[39mNone\u001b[39;00m, non_blocking)\n\u001b[0;32m-> 1145\u001b[0m \u001b[39mreturn\u001b[39;00m \u001b[39mself\u001b[39;49m\u001b[39m.\u001b[39;49m_apply(convert)\n",
      "File \u001b[0;32m/Library/Frameworks/Python.framework/Versions/3.9/lib/python3.9/site-packages/torch/nn/modules/module.py:820\u001b[0m, in \u001b[0;36mModule._apply\u001b[0;34m(self, fn)\u001b[0m\n\u001b[1;32m    816\u001b[0m \u001b[39m# Tensors stored in modules are graph leaves, and we don't want to\u001b[39;00m\n\u001b[1;32m    817\u001b[0m \u001b[39m# track autograd history of `param_applied`, so we have to use\u001b[39;00m\n\u001b[1;32m    818\u001b[0m \u001b[39m# `with torch.no_grad():`\u001b[39;00m\n\u001b[1;32m    819\u001b[0m \u001b[39mwith\u001b[39;00m torch\u001b[39m.\u001b[39mno_grad():\n\u001b[0;32m--> 820\u001b[0m     param_applied \u001b[39m=\u001b[39m fn(param)\n\u001b[1;32m    821\u001b[0m should_use_set_data \u001b[39m=\u001b[39m compute_should_use_set_data(param, param_applied)\n\u001b[1;32m    822\u001b[0m \u001b[39mif\u001b[39;00m should_use_set_data:\n",
      "File \u001b[0;32m/Library/Frameworks/Python.framework/Versions/3.9/lib/python3.9/site-packages/torch/nn/modules/module.py:1143\u001b[0m, in \u001b[0;36mModule.to.<locals>.convert\u001b[0;34m(t)\u001b[0m\n\u001b[1;32m   1140\u001b[0m \u001b[39mif\u001b[39;00m convert_to_format \u001b[39mis\u001b[39;00m \u001b[39mnot\u001b[39;00m \u001b[39mNone\u001b[39;00m \u001b[39mand\u001b[39;00m t\u001b[39m.\u001b[39mdim() \u001b[39min\u001b[39;00m (\u001b[39m4\u001b[39m, \u001b[39m5\u001b[39m):\n\u001b[1;32m   1141\u001b[0m     \u001b[39mreturn\u001b[39;00m t\u001b[39m.\u001b[39mto(device, dtype \u001b[39mif\u001b[39;00m t\u001b[39m.\u001b[39mis_floating_point() \u001b[39mor\u001b[39;00m t\u001b[39m.\u001b[39mis_complex() \u001b[39melse\u001b[39;00m \u001b[39mNone\u001b[39;00m,\n\u001b[1;32m   1142\u001b[0m                 non_blocking, memory_format\u001b[39m=\u001b[39mconvert_to_format)\n\u001b[0;32m-> 1143\u001b[0m \u001b[39mreturn\u001b[39;00m t\u001b[39m.\u001b[39;49mto(device, dtype \u001b[39mif\u001b[39;49;00m t\u001b[39m.\u001b[39;49mis_floating_point() \u001b[39mor\u001b[39;49;00m t\u001b[39m.\u001b[39;49mis_complex() \u001b[39melse\u001b[39;49;00m \u001b[39mNone\u001b[39;49;00m, non_blocking)\n",
      "File \u001b[0;32m/Library/Frameworks/Python.framework/Versions/3.9/lib/python3.9/site-packages/torch/cuda/__init__.py:239\u001b[0m, in \u001b[0;36m_lazy_init\u001b[0;34m()\u001b[0m\n\u001b[1;32m    235\u001b[0m     \u001b[39mraise\u001b[39;00m \u001b[39mRuntimeError\u001b[39;00m(\n\u001b[1;32m    236\u001b[0m         \u001b[39m\"\u001b[39m\u001b[39mCannot re-initialize CUDA in forked subprocess. To use CUDA with \u001b[39m\u001b[39m\"\u001b[39m\n\u001b[1;32m    237\u001b[0m         \u001b[39m\"\u001b[39m\u001b[39mmultiprocessing, you must use the \u001b[39m\u001b[39m'\u001b[39m\u001b[39mspawn\u001b[39m\u001b[39m'\u001b[39m\u001b[39m start method\u001b[39m\u001b[39m\"\u001b[39m)\n\u001b[1;32m    238\u001b[0m \u001b[39mif\u001b[39;00m \u001b[39mnot\u001b[39;00m \u001b[39mhasattr\u001b[39m(torch\u001b[39m.\u001b[39m_C, \u001b[39m'\u001b[39m\u001b[39m_cuda_getDeviceCount\u001b[39m\u001b[39m'\u001b[39m):\n\u001b[0;32m--> 239\u001b[0m     \u001b[39mraise\u001b[39;00m \u001b[39mAssertionError\u001b[39;00m(\u001b[39m\"\u001b[39m\u001b[39mTorch not compiled with CUDA enabled\u001b[39m\u001b[39m\"\u001b[39m)\n\u001b[1;32m    240\u001b[0m \u001b[39mif\u001b[39;00m _cudart \u001b[39mis\u001b[39;00m \u001b[39mNone\u001b[39;00m:\n\u001b[1;32m    241\u001b[0m     \u001b[39mraise\u001b[39;00m \u001b[39mAssertionError\u001b[39;00m(\n\u001b[1;32m    242\u001b[0m         \u001b[39m\"\u001b[39m\u001b[39mlibcudart functions unavailable. It looks like you have a broken build?\u001b[39m\u001b[39m\"\u001b[39m)\n",
      "\u001b[0;31mAssertionError\u001b[0m: Torch not compiled with CUDA enabled"
     ]
    }
   ],
   "source": [
    "\n",
    "model = models.resnet18(pretrained=True)#.to(device)\n",
    "num_features = model.fc.in_features\n",
    "#print(model)\n",
    "# This is how to load a model which is already been trained. You should not need this code\n",
    "#model.fc = nn.Linear(num_features, 43).to(device)\n",
    "#model_check = torch.load(\"./saved_models/resnet18_pretrained_traffic_lights.pth\")\n",
    "#model.load_state_dict(model_check)\n",
    "\n",
    "model.fc = nn.Linear(num_features, 2).to(device)"
   ]
  },
  {
   "cell_type": "code",
   "execution_count": 5,
   "id": "c499a1ff",
   "metadata": {},
   "outputs": [],
   "source": [
    "optimizer = torch.optim.Adam(model.parameters(), lr=3e-4)\n",
    "scaler = torch.cuda.amp.GradScaler()\n",
    "celoss = nn.CrossEntropyLoss()"
   ]
  },
  {
   "attachments": {},
   "cell_type": "markdown",
   "id": "fdd48db4",
   "metadata": {},
   "source": [
    "# Pre - training\n",
    "This code pretrains the model on the black an white dataset. "
   ]
  },
  {
   "cell_type": "code",
   "execution_count": 6,
   "id": "1e66d798",
   "metadata": {},
   "outputs": [
    {
     "data": {
      "application/vnd.jupyter.widget-view+json": {
       "model_id": "3edcfcbbcbba44d89237552c84956f07",
       "version_major": 2,
       "version_minor": 0
      },
      "text/plain": [
       "  0%|          | 0/5 [00:00<?, ?it/s]"
      ]
     },
     "metadata": {},
     "output_type": "display_data"
    },
    {
     "data": {
      "application/vnd.jupyter.widget-view+json": {
       "model_id": "d4c45ba1936b4122be3a3471be239a5b",
       "version_major": 2,
       "version_minor": 0
      },
      "text/plain": [
       "  0%|          | 0/13 [00:00<?, ?it/s]"
      ]
     },
     "metadata": {},
     "output_type": "display_data"
    },
    {
     "data": {
      "application/vnd.jupyter.widget-view+json": {
       "model_id": "2287e09ef931486a898f289132742718",
       "version_major": 2,
       "version_minor": 0
      },
      "text/plain": [
       "  0%|          | 0/13 [00:00<?, ?it/s]"
      ]
     },
     "metadata": {},
     "output_type": "display_data"
    },
    {
     "data": {
      "application/vnd.jupyter.widget-view+json": {
       "model_id": "c1c5b9f52973452bbc61592255bcdc72",
       "version_major": 2,
       "version_minor": 0
      },
      "text/plain": [
       "  0%|          | 0/13 [00:00<?, ?it/s]"
      ]
     },
     "metadata": {},
     "output_type": "display_data"
    },
    {
     "data": {
      "application/vnd.jupyter.widget-view+json": {
       "model_id": "d354635b19d54a008e1dd0e87cd7c060",
       "version_major": 2,
       "version_minor": 0
      },
      "text/plain": [
       "  0%|          | 0/13 [00:00<?, ?it/s]"
      ]
     },
     "metadata": {},
     "output_type": "display_data"
    },
    {
     "data": {
      "application/vnd.jupyter.widget-view+json": {
       "model_id": "e8730258af8240cf9d8d7cba304e48b6",
       "version_major": 2,
       "version_minor": 0
      },
      "text/plain": [
       "  0%|          | 0/13 [00:00<?, ?it/s]"
      ]
     },
     "metadata": {},
     "output_type": "display_data"
    }
   ],
   "source": [
    "\n",
    "    \n",
    "loss_list = []\n",
    "acc_list = []\n",
    "training_acc_list = []\n",
    "for epoch in tqdm(range(5), position = 0):\n",
    "        model.train()\n",
    "        loop = tqdm(enumerate(pre_data_loader), total = len(pre_data_loader), position = 1)\n",
    "        correct = 0\n",
    "        total = 0\n",
    "        for batch_idx, (data, targets) in loop:\n",
    "            data, targets = data.to(device),targets.to(device)\n",
    "            outputs = model(data)\n",
    "\n",
    "            loss = celoss(outputs, targets) \n",
    "            \n",
    "            optimizer.zero_grad()\n",
    "            scaler.scale(loss).backward()\n",
    "            scaler.step(optimizer)\n",
    "            scaler.update()\n",
    "            \n",
    "            loss_list.append(loss.item())\n",
    "            loop.set_postfix(loss = loss.item(), epoch = epoch, model = \"simple model for class\")\n"
   ]
  },
  {
   "cell_type": "code",
   "execution_count": 54,
   "id": "e9f13de2",
   "metadata": {},
   "outputs": [],
   "source": [
    "# Create a folder called \"saved_models\" if you dont hav one, otherwise it will cause an error\n",
    "torch.save(model.state_dict(), f\"./saved_models/pre_trained_{model_name}_for_class_wt.pth\")"
   ]
  },
  {
   "attachments": {},
   "cell_type": "markdown",
   "id": "0c49234f",
   "metadata": {},
   "source": [
    "# Starting the real training\n",
    "\n",
    "Now, once the model has been pretrained, we can start training on the real dataset. \n"
   ]
  },
  {
   "cell_type": "code",
   "execution_count": 56,
   "id": "714f0e1f",
   "metadata": {},
   "outputs": [
    {
     "name": "stdout",
     "output_type": "stream",
     "text": [
      "['Charlock', 'Priority', 'Stop', 'Sugarbeet']\n"
     ]
    }
   ],
   "source": [
    "#Creating the weights for the loss function (the dataset is imbalanced)\n",
    "print(training_set.classes)\n",
    "class_counts = [248, 60, 207, 93]  # Number of samples in each class\n",
    "\n",
    "# Calculate class frequencies\n",
    "total_samples = sum(class_counts)\n",
    "class_frequencies = [total_samples / count for count in class_counts]\n",
    "\n",
    "# Calculate inverse class frequencies\n",
    "inverse_frequencies = [1 / freq for freq in class_frequencies]\n",
    "\n",
    "# Normalize the weights\n",
    "weights = [freq / sum(inverse_frequencies) for freq in inverse_frequencies]\n",
    "\n",
    "# Create a tensor of class weights\n",
    "weights_tensor = torch.tensor(weights, dtype=torch.float).to(device)"
   ]
  },
  {
   "cell_type": "code",
   "execution_count": 58,
   "id": "7f8a7a82",
   "metadata": {},
   "outputs": [
    {
     "data": {
      "image/png": "[encoded data removed]",
      "text/plain": [
       "<Figure size 2100x1000 with 1 Axes>"
      ]
     },
     "metadata": {},
     "output_type": "display_data"
    }
   ],
   "source": [
    "folders = os.listdir(training_data)\n",
    "\n",
    "train_number = []\n",
    "class_num = []\n",
    "\n",
    "\n",
    "for idx,folder in enumerate(training_set.classes):\n",
    "    train_files = os.listdir(training_data + '/' + folder)\n",
    "    train_number.append(len(train_files))\n",
    "    class_num.append(training_set.classes[int(idx)])\n",
    "    \n",
    "# Sorting the dataset on the basis of number of images in each class\n",
    "zipped_lists = zip(train_number, class_num)\n",
    "sorted_pairs = sorted(zipped_lists)\n",
    "tuples = zip(*sorted_pairs)\n",
    "train_number, class_num = [ list(tuple) for tuple in  tuples]\n",
    "\n",
    "# Plotting the number of images in each class\n",
    "plt.figure(figsize=(21,10))  \n",
    "plt.bar(class_num, train_number)\n",
    "plt.xticks(class_num, rotation='vertical')\n",
    "plt.show()\n"
   ]
  },
  {
   "cell_type": "code",
   "execution_count": 59,
   "id": "f1c005f1",
   "metadata": {},
   "outputs": [],
   "source": [
    "\n",
    "# Creating the dataset for training\n",
    "training_set = ImageFolder(root=training_data, transform=transform)\n",
    "validation_ratio = 0.1\n",
    "\n",
    "# Calculate the number of samples for the validation set\n",
    "validation_size = int(validation_ratio * len(training_set))\n",
    "train_size = len(training_set) - validation_size\n",
    "\n",
    "# Split the training set into training and validation sets\n",
    "train_set, validation_set = random_split(training_set, [train_size, validation_size])\n",
    "\n",
    "# Create data loaders for training and validation sets\n",
    "train_loader = DataLoader(train_set, batch_size=32, shuffle=True)\n",
    "validation_loader = DataLoader(validation_set, batch_size=1)"
   ]
  },
  {
   "cell_type": "code",
   "execution_count": 60,
   "id": "ac85dc9b",
   "metadata": {},
   "outputs": [],
   "source": [
    "# If you dont want to use the pretrained model, uncomment this line. \n",
    "#(Do NOT change pretrained to False)\n",
    "#model = models.resnet18(pretrained=True).to(device)\n",
    "\n",
    "    # Modify the last fully connected layer for 4 classes\n",
    "model.fc = nn.Linear(num_features, 4).to(device)\n",
    "\n",
    "optimizer = torch.optim.Adam(model.parameters(), lr=3e-4)\n",
    "scaler = torch.cuda.amp.GradScaler()\n"
   ]
  },
  {
   "cell_type": "code",
   "execution_count": 11,
   "id": "68d43895",
   "metadata": {},
   "outputs": [
    {
     "data": {
      "application/vnd.jupyter.widget-view+json": {
       "model_id": "55cb50fd4fbe4294897e510934afb293",
       "version_major": 2,
       "version_minor": 0
      },
      "text/plain": [
       "  0%|          | 0/5 [00:00<?, ?it/s]"
      ]
     },
     "metadata": {},
     "output_type": "display_data"
    },
    {
     "data": {
      "application/vnd.jupyter.widget-view+json": {
       "model_id": "e4abef2007fa4de795b26553a584ce9a",
       "version_major": 2,
       "version_minor": 0
      },
      "text/plain": [
       "  0%|          | 0/18 [00:00<?, ?it/s]"
      ]
     },
     "metadata": {},
     "output_type": "display_data"
    },
    {
     "data": {
      "application/vnd.jupyter.widget-view+json": {
       "model_id": "a4a06703b06f42439a19018df9ed8f2a",
       "version_major": 2,
       "version_minor": 0
      },
      "text/plain": [
       "  0%|          | 0/18 [00:00<?, ?it/s]"
      ]
     },
     "metadata": {},
     "output_type": "display_data"
    },
    {
     "data": {
      "application/vnd.jupyter.widget-view+json": {
       "model_id": "d5e94c3b4e48451d8b94d99fb2f2d2ce",
       "version_major": 2,
       "version_minor": 0
      },
      "text/plain": [
       "  0%|          | 0/18 [00:00<?, ?it/s]"
      ]
     },
     "metadata": {},
     "output_type": "display_data"
    },
    {
     "data": {
      "application/vnd.jupyter.widget-view+json": {
       "model_id": "1fe363e892ae4d028b42a9ecf2ac1d95",
       "version_major": 2,
       "version_minor": 0
      },
      "text/plain": [
       "  0%|          | 0/18 [00:00<?, ?it/s]"
      ]
     },
     "metadata": {},
     "output_type": "display_data"
    },
    {
     "data": {
      "application/vnd.jupyter.widget-view+json": {
       "model_id": "24c364ce58d040fe85a49bc4d688af27",
       "version_major": 2,
       "version_minor": 0
      },
      "text/plain": [
       "  0%|          | 0/18 [00:00<?, ?it/s]"
      ]
     },
     "metadata": {},
     "output_type": "display_data"
    }
   ],
   "source": [
    "celoss = nn.CrossEntropyLoss(weights_tensor)\n",
    "    \n",
    "loss_list = []\n",
    "acc_list = []\n",
    "training_acc_list = []\n",
    "val_correct = 0\n",
    "val_total=0\n",
    "for epoch in tqdm(range(5), position = 0):\n",
    "        #Training\n",
    "        model.train()\n",
    "        loop = tqdm(enumerate(train_loader), total = len(train_loader), position = 1)\n",
    "        correct = 0\n",
    "        total = 0\n",
    "        for batch_idx, (data, targets) in loop:\n",
    "            data, targets = data.to(device),targets.to(device)\n",
    "            #print(data.shape)\n",
    "            outputs = model(data)\n",
    "            loss = celoss(outputs, targets) \n",
    "            \n",
    "            optimizer.zero_grad()\n",
    "            scaler.scale(loss).backward()\n",
    "            scaler.step(optimizer)\n",
    "            scaler.update()\n",
    "\n",
    "            loss_list.append(loss.item())\n",
    "            \n",
    "            loop.set_postfix(loss = loss.item(), epoch = epoch, model = \"simple model for class\")\n",
    "        \n",
    "        # Calculate validation accuracy\n",
    "        model.eval()\n",
    "        y_test = []\n",
    "        y_pred = []\n",
    "        inference_times = []\n",
    "        with torch.no_grad():\n",
    "            for data, targets in validation_loader:\n",
    "                    data, targets = data.to(device), targets.to(device)\n",
    "                    outputs = model(data)\n",
    "\n",
    "                    \n",
    "                    start_time = time.time()\n",
    "                    \n",
    "                    _, predicted = torch.max(outputs.data, 1)\n",
    "                    end_time = time.time()\n",
    "                    val_total += targets.size(0)\n",
    "                    val_correct += (predicted == targets).sum().item()\n",
    "                    \n",
    "                    y_pred.extend(predicted.cpu().numpy().tolist())\n",
    "                    y_test.extend(targets.cpu().numpy().tolist())\n",
    "                    inference_time = end_time - start_time\n",
    "                    inference_times.append(inference_time)\n",
    "            \n",
    "            accuracy = accuracy_score(y_test, y_pred)\n",
    "            val_acc = val_correct / val_total * 100\n",
    "            acc_list.append(val_acc)\n"
   ]
  },
  {
   "cell_type": "code",
   "execution_count": 12,
   "id": "1b1bdf7c",
   "metadata": {},
   "outputs": [],
   "source": [
    "torch.save(model.state_dict(), f\"./saved_models/{model_name}_for_mnclass.pth\")"
   ]
  },
  {
   "cell_type": "code",
   "execution_count": 13,
   "id": "1ca28500",
   "metadata": {},
   "outputs": [
    {
     "name": "stdout",
     "output_type": "stream",
     "text": [
      "0.9666666666666667\n",
      "2.857049306233724e-05\n"
     ]
    },
    {
     "data": {
      "text/plain": [
       "[<matplotlib.lines.Line2D at 0x7fb42fa80f40>]"
      ]
     },
     "execution_count": 13,
     "metadata": {},
     "output_type": "execute_result"
    },
    {
     "data": {
      "image/png": "[encoded data removed]",
      "text/plain": [
       "<Figure size 640x480 with 1 Axes>"
      ]
     },
     "metadata": {},
     "output_type": "display_data"
    }
   ],
   "source": [
    "print(accuracy)\n",
    "print(sum(inference_times)/len(inference_times))\n",
    "plt.plot(loss_list)\n",
    "plt.plot(acc_list)"
   ]
  },
  {
   "cell_type": "code",
   "execution_count": null,
   "id": "3d93cfef",
   "metadata": {},
   "outputs": [],
   "source": []
  },
  {
   "cell_type": "code",
   "execution_count": null,
   "id": "d7ece4c0",
   "metadata": {},
   "outputs": [],
   "source": [
    "\n"
   ]
  },
  {
   "cell_type": "code",
   "execution_count": 52,
   "id": "02ec88a3",
   "metadata": {},
   "outputs": [
    {
     "data": {
      "image/png": "[encoded data removed]",
      "text/plain": [
       "<Figure size 2000x2000 with 2 Axes>"
      ]
     },
     "metadata": {},
     "output_type": "display_data"
    }
   ],
   "source": [
    "# We need to save this confusion matrix\n",
    "from sklearn.metrics import confusion_matrix\n",
    "\n",
    "cf = confusion_matrix(y_pred, y_test)\n",
    "\n",
    "import seaborn as sns\n",
    "df_cm = pd.DataFrame(cf, index = training_set.classes,  columns = training_set.classes)\n",
    "plt.figure(figsize = (20,20))\n",
    "fig = sns.heatmap(df_cm, annot=True)\n",
    "fig.figure.savefig(f\"confusion_for_{model_name}.png\")"
   ]
  },
  {
   "attachments": {},
   "cell_type": "markdown",
   "id": "6dbaeccc",
   "metadata": {},
   "source": [
    "# Extra Work\n",
    "\n",
    "This is not too much extra work but it's worth doing to see the difference. \n",
    "Since the dataset is fairly simple, we can use the neural network to extract features (i.e. edges and some other shit) and then use a simple machine learning technique, in this case svm, to then classify the images. Since the feature extraction is learned during the previous training, this is not causing that much work"
   ]
  },
  {
   "cell_type": "code",
   "execution_count": null,
   "id": "0fb58d9a",
   "metadata": {},
   "outputs": [],
   "source": [
    "\n",
    "train_loader = DataLoader(training_set, batch_size=1, shuffle=True)"
   ]
  },
  {
   "cell_type": "code",
   "execution_count": null,
   "id": "19a8bb42",
   "metadata": {},
   "outputs": [],
   "source": [
    "layer_name = 'avgpool'  # The layer before the fully connected layer\n",
    "feature_extractor = torch.nn.Sequential(*list(model.children())[:-1])\n",
    "feature_extractor = feature_extractor.eval().to(device)\n",
    "\n",
    "optimizer = torch.optim.Adam(model.parameters(), lr=3e-5)\n",
    "scaler = torch.cuda.amp.GradScaler()\n",
    "\n",
    "celoss = nn.CrossEntropyLoss()\n",
    "    \n",
    "loss_list = []\n",
    "#acc_list = []\n",
    "training_acc_list = []\n",
    "\n",
    "features = []\n",
    "labels = []\n",
    "for epoch in tqdm(range(1), position = 0):\n",
    "        #Training\n",
    "        model.train()\n",
    "        loop = tqdm(enumerate(train_loader), total = len(train_loader), position = 1)\n",
    "        correct = 0\n",
    "        total = 0\n",
    "        for batch_idx, (data, targets) in loop:\n",
    "            data, targets = data.to(device),targets.to(device)\n",
    "            #print(data.shape)\n",
    "            \n",
    "            with torch.no_grad():\n",
    "                features += [feature_extractor(data).squeeze().cpu().numpy()]\n",
    "                labels += [targets.cpu().numpy()]\n",
    "            \n",
    "\n",
    "features = np.array(features)\n",
    "labels = np.array(labels)\n",
    "\n",
    "# Encode class labels as integers\n",
    "#print(labels)\n",
    "le = preprocessing.LabelEncoder()\n",
    "encoded_labels = le.fit_transform(labels)\n",
    "\n",
    "# Split the dataset into training and testing sets\n",
    "X_train, X_test, y_train, y_test = train_test_split(features, encoded_labels, test_size=0.2, random_state=42)\n",
    "#X_train.shape\n",
    "#encoded_labels\n",
    "# Create an SVM classifier\n",
    "clf = svm.SVC()\n",
    "\n",
    "# Train the classifier\n",
    "clf.fit(X_train, y_train)\n",
    "\n",
    "# Predict the labels for the test set\n",
    "y_pred = clf.predict(X_test)\n",
    "\n",
    "# Calculate accuracy\n",
    "accuracy = accuracy_score(y_test, y_pred)\n",
    "print(\"Accuracy:\", accuracy)\n"
   ]
  },
  {
   "attachments": {},
   "cell_type": "markdown",
   "id": "5c9b7104",
   "metadata": {},
   "source": [
    "# Results so far:\n",
    "\n",
    "## Resnet18\n",
    "### Without pre trianing\n",
    "    93, 96\n",
    "### Without pre trianing, with feature detector\n",
    "    97.5\n",
    "### Without pre trianing, but with weights\n",
    "    98.3\n",
    "### Without pre trianing, with feature detector, weights\n",
    "    98.3\n",
    "### With pre trianing, with feature detector, weights\n",
    "    1\n",
    "### No normalization\n",
    "    "
   ]
  },
  {
   "cell_type": "code",
   "execution_count": null,
   "id": "cae5776f",
   "metadata": {},
   "outputs": [],
   "source": []
  },
  {
   "cell_type": "code",
   "execution_count": null,
   "id": "7f1e0251",
   "metadata": {},
   "outputs": [],
   "source": []
  }
 ],
 "metadata": {
  "kernelspec": {
   "display_name": "Python 3 (ipykernel)",
   "language": "python",
   "name": "python3"
  },
  "language_info": {
   "codemirror_mode": {
    "name": "ipython",
    "version": 3
   },
   "file_extension": ".py",
   "mimetype": "text/x-python",
   "name": "python",
   "nbconvert_exporter": "python",
   "pygments_lexer": "ipython3",
   "version": "3.9.4"
  }
 },
 "nbformat": 4,
 "nbformat_minor": 5
}
